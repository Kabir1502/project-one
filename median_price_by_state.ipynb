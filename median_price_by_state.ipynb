{
 "cells": [
  {
   "cell_type": "code",
   "execution_count": 12,
   "id": "69ed6763-5b29-440c-863d-3443e1a10767",
   "metadata": {},
   "outputs": [
    {
     "name": "stdout",
     "output_type": "stream",
     "text": [
      "   state     price\n",
      "0     AL  290000.0\n",
      "1     AR  208500.0\n",
      "2     AZ  413200.0\n",
      "3     CA  723800.0\n",
      "4     CO  501000.0\n",
      "5     CT  564700.0\n",
      "6     DC  710000.0\n",
      "7     DE  365750.0\n",
      "8     FL  370000.0\n",
      "9     GA  354200.0\n",
      "10    HI  720000.0\n",
      "11    IA  255500.0\n",
      "12    IL  313250.0\n",
      "13    IN  179000.0\n",
      "14    KY  354100.0\n",
      "15    LA  275600.0\n",
      "16    MA  655000.0\n",
      "17    MD  467450.0\n",
      "18    ME  385650.0\n",
      "19    MI  205000.0\n",
      "20    MN  375750.0\n",
      "21    MO  631050.0\n",
      "22    NC  382812.5\n",
      "23    NE  190000.0\n",
      "24    NH  432300.0\n",
      "25    NJ  517800.0\n",
      "26    NV  486150.0\n",
      "27    NY  600000.0\n",
      "28    OH  226000.0\n",
      "29    OK  255100.0\n",
      "30    OR  621750.0\n",
      "31    PA  282500.0\n",
      "32    RI  360000.0\n",
      "33    SC  330000.0\n",
      "34    TN  340000.0\n",
      "35    TX  507600.0\n",
      "36    VA  335000.0\n",
      "37    VT  317750.0\n",
      "38    WA  638000.0\n",
      "39    WI  310467.0\n",
      "40    WV  373950.0\n"
     ]
    }
   ],
   "source": [
    "import pandas as pd\n",
    "import json\n",
    "\n",
    "filename = \"zillow_properties_data.json\"\n",
    "\n",
    "zillow_df = pd.read_json(filename)\n",
    "zillow_df_sorted = zillow_df.sort_values(by=['state', 'city'])\n",
    "# Remove rows where price is 0 and homeType is not Single Family\n",
    "zillow_df_filtered = zillow_df_sorted[~((zillow_df_sorted['price'] == 0) & (zillow_df_sorted['homeType'] != 'Single Family'))]\n",
    "\n",
    "# Display the shape of the new DataFrame to confirm the filtering\n",
    "#print(f\"Original DataFrame shape: {zillow_df_sorted.shape}\")\n",
    "#print(f\"Filtered DataFrame shape: {zillow_df_filtered.shape}\")\n",
    "\n",
    "\n",
    "median_price_by_state = zillow_df_filtered.groupby('state')['price'].median().reset_index()\n",
    "\n",
    "print(median_price_by_state)\n"
   ]
  },
  {
   "cell_type": "code",
   "execution_count": 13,
   "id": "ace3e832-e80e-411a-a622-b9ad3643119c",
   "metadata": {},
   "outputs": [],
   "source": [
    "median_price_by_state.to_json('median_price_by_state.json', orient='records', lines=True)"
   ]
  },
  {
   "cell_type": "code",
   "execution_count": null,
   "id": "c43ffd83-b611-4f8c-a481-19cc23569086",
   "metadata": {},
   "outputs": [],
   "source": []
  }
 ],
 "metadata": {
  "kernelspec": {
   "display_name": "Python 3 (ipykernel)",
   "language": "python",
   "name": "python3"
  },
  "language_info": {
   "codemirror_mode": {
    "name": "ipython",
    "version": 3
   },
   "file_extension": ".py",
   "mimetype": "text/x-python",
   "name": "python",
   "nbconvert_exporter": "python",
   "pygments_lexer": "ipython3",
   "version": "3.10.14"
  }
 },
 "nbformat": 4,
 "nbformat_minor": 5
}
