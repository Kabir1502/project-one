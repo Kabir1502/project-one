{
 "cells": [
  {
   "cell_type": "code",
   "execution_count": 21,
   "id": "d35393a6-e4d2-4a66-9be4-9a9bdd67a9af",
   "metadata": {},
   "outputs": [
    {
     "name": "stdout",
     "output_type": "stream",
     "text": [
      "Error fetching weather data: 401\n",
      "Error fetching weather data: 401\n",
      "Error fetching weather data: 401\n",
      "Error fetching weather data: 401\n",
      "Error fetching weather data: 401\n",
      "Error fetching weather data: 401\n",
      "Error fetching weather data: 401\n",
      "Error fetching weather data: 401\n",
      "Error fetching weather data: 401\n",
      "Error fetching weather data: 401\n",
      "Error fetching weather data: 401\n",
      "Error fetching weather data: 401\n",
      "Error fetching weather data: 401\n",
      "Error fetching weather data: 401\n",
      "Error fetching weather data: 401\n",
      "Error fetching weather data: 401\n",
      "Error fetching weather data: 401\n",
      "Error fetching weather data: 401\n",
      "Error fetching weather data: 401\n",
      "Error fetching weather data: 401\n",
      "Error fetching weather data: 401\n",
      "Error fetching weather data: 401\n",
      "Error fetching weather data: 401\n"
     ]
    }
   ],
   "source": [
    "import requests\n",
    "from config import weather_api_key \n",
    "from config import geoapify_key \n",
    "import json\n",
    "import pandas as pd\n",
    "\n",
    "homes_analysis_filename = \"filtered_data.json\"\n",
    "selected_houses_df = pd.read_json(homes_analysis_filename)\n",
    "new_df = selected_houses_df.copy()\n",
    "\n",
    "start_date = \"2023-01-01\" \n",
    "end_date = \"2023-12-31\"\n",
    "\n",
    "def get_lat_lon(streetAddress, api_key):\n",
    "    geo_url = f\"https://api.geoapify.com/v1/geocode/search?text={streetAddress}&limit=1&apiKey={api_key}\"\n",
    "    response = requests.get(geo_url)\n",
    "    if response.status_code == 200:\n",
    "        geodata = response.json()\n",
    "        coordinates = {\"lat\": geodata[\"features\"][0][\"geometry\"][\"coordinates\"][1], \"long\": geodata[\"features\"][0][\"geometry\"][\"coordinates\"][0]}\n",
    "        return coordinates\n",
    "    else:\n",
    "        print(f\"Request failed with status code {response.status_code}\")\n",
    "        return None\n",
    "\n",
    "def get_historical_weather(lat, lon, api_key):\n",
    "    url = f'https://history.openweathermap.org/data/2.5/history/city?lat={lat}&lon={lon}&type=day&start={start_date}&end={end_date}&appid={api_key}&units=imperial'\n",
    "    response = requests.get(url)\n",
    "    if response.status_code == 200:\n",
    "        data = response.json()\n",
    "        weather_data = {\n",
    "            'temperature': data['current']['temp'],\n",
    "            'humidity': data['current']['humidity'],\n",
    "            'wind_speed': data['current']['wind_speed'],\n",
    "            'uv_index': data['current'].get('uvi', None)\n",
    "        }\n",
    "        return weather_data\n",
    "    else:\n",
    "        print(f\"Error fetching weather data: {response.status_code}\")\n",
    "        return None\n",
    "\n",
    "historical_weather_results = []\n",
    "\n",
    "for index, house in selected_houses_df.iterrows():\n",
    "    street_address = house[\"streetAddress\"]\n",
    "\n",
    "    coordinates = get_lat_lon(street_address, geoapify_key)\n",
    "    if coordinates:\n",
    "        lat = coordinates['lat']\n",
    "        lon = coordinates['long']\n",
    "        \n",
    "        house_weather_data = []\n",
    "        weather_data = get_historical_weather(lat, lon, weather_api_key)\n",
    "        if weather_data:\n",
    "            house_weather_data.append(weather_data)\n",
    "        \n",
    "        historical_weather_results.append({\n",
    "            'weather_data': house_weather_data\n",
    "        })\n",
    "        \n",
    "historical_weather_df = pd.DataFrame(historical_weather_results)  \n",
    "\n",
    "new_df[\"historicalWeatherData\"] = historical_weather_df[\"weather_data\"]\n",
    "    \n",
    "\n"
   ]
  },
  {
   "cell_type": "code",
   "execution_count": 12,
   "id": "a3aa4dfc-1e0c-4f35-a9ce-5cf26918ce0f",
   "metadata": {},
   "outputs": [
    {
     "name": "stdout",
     "output_type": "stream",
     "text": [
      "error code 401\n"
     ]
    }
   ],
   "source": [
    "lat = get_lat_lon(\"3855 Nobel Dr San Diego\", geoapify_key)[\"lat\"]\n",
    "long = get_lat_lon(\"3855 Nobel Dr San Diego\", geoapify_key)[\"long\"]\n",
    "url = f'https://history.openweathermap.org/data/2.5/history/city?lat={long}&lon={lat}&type=hour&start={start_date}&end={end_date}&appid={weather_api_key}&units=imperial'\n",
    "response = requests.get(url)\n",
    "if response.status_code == 200:\n",
    "    data = response.json()\n",
    "    print(data)\n",
    "else:\n",
    "    print(f\"error code {response.status_code}\")"
   ]
  },
  {
   "cell_type": "code",
   "execution_count": 19,
   "id": "2b9dd410-6b4e-4108-8f8a-8b934c1383d4",
   "metadata": {},
   "outputs": [
    {
     "name": "stdout",
     "output_type": "stream",
     "text": [
      "429\n",
      "{\n",
      "    \"cod\": 429,\n",
      "    \"message\": \"Your account is temporary blocked due to exceeding of requests limitation of your subscription type. Please choose the proper subscription https://openweathermap.org/price\"\n",
      "}\n"
     ]
    }
   ],
   "source": []
  },
  {
   "cell_type": "code",
   "execution_count": null,
   "id": "a66d9ae5-f2c8-462a-959e-adaf400b091c",
   "metadata": {},
   "outputs": [],
   "source": []
  }
 ],
 "metadata": {
  "kernelspec": {
   "display_name": "Python 3 (ipykernel)",
   "language": "python",
   "name": "python3"
  },
  "language_info": {
   "codemirror_mode": {
    "name": "ipython",
    "version": 3
   },
   "file_extension": ".py",
   "mimetype": "text/x-python",
   "name": "python",
   "nbconvert_exporter": "python",
   "pygments_lexer": "ipython3",
   "version": "3.10.14"
  }
 },
 "nbformat": 4,
 "nbformat_minor": 5
}
