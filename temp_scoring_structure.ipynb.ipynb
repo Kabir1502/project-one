{
 "cells": [
  {
   "cell_type": "code",
   "execution_count": 5,
   "id": "cecf32e7-ad35-4d5b-a1c5-6f2dc20972d5",
   "metadata": {},
   "outputs": [],
   "source": [
    "days_in_year = [1,2,3,4]\n",
    "temp_index_day = [40,40,38,42,48,50,50,53,56,65,80,95,105,99,98,96,94,85,80,70,68,65,60,55]\n",
    "penalty_factor = 0.0075\n",
    "temp_average_year = []\n",
    "total_temp = 0\n",
    "penalty = []\n",
    "upper_bound = 80\n",
    "lower_bound = 60\n",
    "base_score = 100"
   ]
  },
  {
   "cell_type": "code",
   "execution_count": 6,
   "id": "9134f54e-0d60-444b-b75c-01754b7237f3",
   "metadata": {},
   "outputs": [
    {
     "name": "stdout",
     "output_type": "stream",
     "text": [
      "Average temperature for the year: 68.0\n",
      "68\n",
      "Temperature score is 9.498999999999999\n"
     ]
    }
   ],
   "source": [
    "def calculate_average_temp_day():\n",
    "    global total_temp\n",
    "    for days in days_in_year:\n",
    "        total_temp = 0  # Reset total for each day\n",
    "        for temp in temp_index_day:\n",
    "            total_temp += temp  # Sum temperature values\n",
    "            if temp > upper_bound or temp < lower_bound:\n",
    "                penalty.append(temp)  # Append to penalty if temp is not within the upper and lower bound\n",
    "        average_temp = total_temp / len(temp_index_day)  \n",
    "        temp_average_year.append(average_temp)  # Append to the yearly average list\n",
    "\n",
    "calculate_average_temp_day()  # Call the function to calculate averages\n",
    "\n",
    "# total temperature for the year and the average\n",
    "total_temp_year = sum(temp_average_year)\n",
    "average_temp_year = total_temp_year / len(temp_average_year) \n",
    "\n",
    "print(f\"Average temperature for the year: {average_temp_year}\")\n",
    "\n",
    "def temp_score():\n",
    "    if average_temp_year != 65:\n",
    "        score = base_score - 1.5 * (average_temp_year - 65)\n",
    "        score -= penalty_factor * len(penalty) # Apply penalty\n",
    "    else:\n",
    "        score = 100\n",
    "    score = score/10\n",
    "    return score\n",
    "print(len(penalty))   \n",
    "# Calculate and print the temperature score\n",
    "score = temp_score()\n",
    "print(f\"Temperature score is {score}\")"
   ]
  },
  {
   "cell_type": "code",
   "execution_count": null,
   "id": "90fef93e-e449-4c85-86bd-ce69caf5d8ff",
   "metadata": {},
   "outputs": [],
   "source": []
  }
 ],
 "metadata": {
  "kernelspec": {
   "display_name": "Python 3 (ipykernel)",
   "language": "python",
   "name": "python3"
  },
  "language_info": {
   "codemirror_mode": {
    "name": "ipython",
    "version": 3
   },
   "file_extension": ".py",
   "mimetype": "text/x-python",
   "name": "python",
   "nbconvert_exporter": "python",
   "pygments_lexer": "ipython3",
   "version": "3.12.4"
  }
 },
 "nbformat": 4,
 "nbformat_minor": 5
}
