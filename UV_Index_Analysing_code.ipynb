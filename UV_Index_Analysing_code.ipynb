{
 "cells": [
  {
   "cell_type": "code",
   "execution_count": 16,
   "id": "28355bd5-b79e-4dfc-b956-59409f49f90d",
   "metadata": {},
   "outputs": [],
   "source": [
    "import requests\n",
    "\n",
    "def get_uv_index(api_key, lat, lon):\n",
    "    url = f\"http://api.openweathermap.org/data/2.5/uvi?appid={api_key}&lat={lat}&lon={lon}\"\n",
    "    response = requests.get(url)\n",
    "    return response.json()"
   ]
  },
  {
   "cell_type": "code",
   "execution_count": 17,
   "id": "34aca6a1-7cb2-4e3f-b2da-3804186f285f",
   "metadata": {},
   "outputs": [
    {
     "name": "stdout",
     "output_type": "stream",
     "text": [
      "UV Index for Hartford: 3.11\n"
     ]
    }
   ],
   "source": [
    "def print_uv_index(data):\n",
    "    uv_index = data['value']\n",
    "    print(f\"UV Index for Hartford: {uv_index}\")\n",
    "\n",
    "api_key = \"Your Api\"\n",
    "latitude = 41.782414 \n",
    "longitude = -72.609726  \n",
    "uv_data = get_uv_index(api_key, latitude, longitude)\n",
    "print_uv_index(uv_data)"
   ]
  },
  {
   "cell_type": "code",
   "execution_count": null,
   "id": "80ca0a8a-7fdd-40d6-9bb2-e116de6c60ec",
   "metadata": {},
   "outputs": [],
   "source": []
  }
 ],
 "metadata": {
  "kernelspec": {
   "display_name": "Python 3 (ipykernel)",
   "language": "python",
   "name": "python3"
  },
  "language_info": {
   "codemirror_mode": {
    "name": "ipython",
    "version": 3
   },
   "file_extension": ".py",
   "mimetype": "text/x-python",
   "name": "python",
   "nbconvert_exporter": "python",
   "pygments_lexer": "ipython3",
   "version": "3.12.4"
  }
 },
 "nbformat": 4,
 "nbformat_minor": 5
}
